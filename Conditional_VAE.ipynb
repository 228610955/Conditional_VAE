{
 "cells": [
  {
   "cell_type": "code",
   "execution_count": 1,
   "metadata": {},
   "outputs": [
    {
     "name": "stdout",
     "output_type": "stream",
     "text": [
      "Populating the interactive namespace from numpy and matplotlib\n"
     ]
    }
   ],
   "source": [
    "%pylab inline"
   ]
  },
  {
   "cell_type": "code",
   "execution_count": 21,
   "metadata": {},
   "outputs": [],
   "source": [
    "import numpy as np\n",
    "from keras.layers import Input, Dense, Lambda\n",
    "from keras.layers.merge import concatenate\n",
    "from keras.models import Model\n",
    "from keras import backend as K\n",
    "from keras.datasets import mnist\n",
    "from keras.utils import to_categorical\n",
    "from keras.callbacks import EarlyStopping\n",
    "from scipy.misc import imsave\n",
    "import matplotlib.pyplot as plt"
   ]
  },
  {
   "cell_type": "code",
   "execution_count": 16,
   "metadata": {
    "collapsed": true
   },
   "outputs": [],
   "source": [
    "# load mnist\n",
    "(X_train, y_train), (X_test, y_test) = mnist.load_data()\n",
    "\n",
    "# convert y to one-hot, reshape x\n",
    "y_train = to_categorical(y_train)\n",
    "y_test = to_categorical(y_test)\n",
    "X_train = X_train.astype('float32') / 255.\n",
    "X_test = X_test.astype('float32') / 255.\n",
    "X_train = X_train.reshape((len(X_train), np.prod(X_train.shape[1:])))\n",
    "X_test = X_test.reshape((len(X_test), np.prod(X_test.shape[1:])))"
   ]
  },
  {
   "cell_type": "code",
   "execution_count": 17,
   "metadata": {
    "collapsed": true
   },
   "outputs": [],
   "source": [
    "# select optimizer\n",
    "optim = 'adam'\n",
    "\n",
    "# dimension of latent space (batch size by latent dim)\n",
    "m = 50\n",
    "n_z = 2\n",
    "\n",
    "# dimension of input (and label)\n",
    "n_x = X_train.shape[1]\n",
    "n_y = y_train.shape[1]\n",
    "\n",
    "# nubmer of epochs\n",
    "n_epoch = 2"
   ]
  },
  {
   "cell_type": "code",
   "execution_count": 18,
   "metadata": {
    "collapsed": true
   },
   "outputs": [],
   "source": [
    "##  ENCODER ##\n",
    "\n",
    "# encoder inputs\n",
    "X = Input(shape=(784, ))\n",
    "cond = Input(shape=(n_y, ))\n",
    "\n",
    "# merge pixel representation and label\n",
    "inputs = concatenate([X, cond])\n",
    "\n",
    "# dense ReLU layer to mu and sigma\n",
    "h_q = Dense(512, activation='relu')(inputs)\n",
    "mu = Dense(n_z, activation='linear')(h_q)\n",
    "log_sigma = Dense(n_z, activation='linear')(h_q)\n",
    "\n",
    "def sample_z(args):\n",
    "    mu, log_sigma = args\n",
    "    eps = K.random_normal(shape=(m, n_z), mean=0., stddev=1.)\n",
    "    return mu + K.exp(log_sigma / 2) * eps\n",
    "\n",
    "\n",
    "# Sampling latent space\n",
    "z = Lambda(sample_z, output_shape = (n_z, ))([mu, log_sigma])\n",
    "\n",
    "# merge latent space with label\n",
    "z_cond = concatenate([z, cond])"
   ]
  },
  {
   "cell_type": "code",
   "execution_count": 19,
   "metadata": {
    "collapsed": true
   },
   "outputs": [],
   "source": [
    "##  DECODER  ##\n",
    "\n",
    "# dense ReLU to sigmoid layers\n",
    "decoder_hidden = Dense(512, activation='relu')\n",
    "decoder_out = Dense(784, activation='sigmoid')\n",
    "h_p = decoder_hidden(z_cond)\n",
    "outputs = decoder_out(h_p)\n",
    "\n",
    "# define cvae and encoder models\n",
    "cvae = Model([X, cond], outputs)\n",
    "encoder = Model([X, cond], mu)\n",
    "\n",
    "# reuse decoder layers to define decoder separately\n",
    "d_in = Input(shape=(n_z+n_y,))\n",
    "d_h = decoder_hidden(d_in)\n",
    "d_out = decoder_out(d_h)\n",
    "decoder = Model(d_in, d_out)\n",
    "\n",
    "# define loss (sum of reconstruction and KL divergence)\n",
    "def vae_loss(y_true, y_pred):\n",
    "    # E[log P(X|z)]\n",
    "    recon = K.sum(K.binary_crossentropy(y_pred, y_true), axis=1)\n",
    "    # D_KL(Q(z|X) || P(z|X))\n",
    "    kl = 0.5 * K.sum(K.exp(log_sigma) + K.square(mu) - 1. - log_sigma, axis=1)\n",
    "    return recon + kl\n",
    "\n",
    "def KL_loss(y_true, y_pred):\n",
    "\treturn(0.5 * K.sum(K.exp(log_sigma) + K.square(mu) - 1. - log_sigma, axis=1))\n",
    "\n",
    "def recon_loss(y_true, y_pred):\n",
    "\treturn(K.sum(K.binary_crossentropy(y_pred, y_true), axis=1))\n"
   ]
  },
  {
   "cell_type": "code",
   "execution_count": 20,
   "metadata": {},
   "outputs": [
    {
     "name": "stdout",
     "output_type": "stream",
     "text": [
      "Train on 60000 samples, validate on 10000 samples\n",
      "Epoch 1/2\n",
      "60000/60000 [==============================] - 21s - loss: 160.9816 - KL_loss: 5.2408 - recon_loss: 155.7408 - val_loss: 143.0879 - val_KL_loss: 4.3298 - val_recon_loss: 138.7581\n",
      "Epoch 2/2\n",
      "60000/60000 [==============================] - 20s - loss: 140.7805 - KL_loss: 4.2844 - recon_loss: 136.4961 - val_loss: 138.9481 - val_KL_loss: 4.1748 - val_recon_loss: 134.7733\n"
     ]
    }
   ],
   "source": [
    "# compile and fit\n",
    "cvae.compile(optimizer=optim, loss=vae_loss, metrics = [KL_loss, recon_loss])\n",
    "cvae_hist = cvae.fit([X_train, y_train], X_train, batch_size=m, epochs=n_epoch,\n",
    "\t\t\t\t\t\t\tvalidation_data = ([X_test, y_test], X_test),\n",
    "\t\t\t\t\t\t\tcallbacks = [EarlyStopping(patience = 5)])"
   ]
  },
  {
   "cell_type": "code",
   "execution_count": 24,
   "metadata": {},
   "outputs": [
    {
     "data": {
      "text/plain": [
       "<matplotlib.image.AxesImage at 0x7f4a784ebc50>"
      ]
     },
     "execution_count": 24,
     "metadata": {},
     "output_type": "execute_result"
    },
    {
     "data": {
      "image/png": "[encoded data removed]",
      "text/plain": [
       "<matplotlib.figure.Figure at 0x7f4a78fbf6a0>"
      ]
     },
     "metadata": {},
     "output_type": "display_data"
    }
   ],
   "source": [
    "# plot a 9\n",
    "vec_9 = np.zeros((1, 12))\n",
    "decoded_9 = decoder.predict(vec_9)\n",
    "plt.imshow(decoded_9.reshape(28, 28), cmap = plt.cm.gray)"
   ]
  },
  {
   "cell_type": "code",
   "execution_count": 14,
   "metadata": {
    "collapsed": true
   },
   "outputs": [],
   "source": [
    "K.clear_session()"
   ]
  }
 ],
 "metadata": {
  "kernelspec": {
   "display_name": "Python 3",
   "language": "python",
   "name": "python3"
  },
  "language_info": {
   "codemirror_mode": {
    "name": "ipython",
    "version": 3
   },
   "file_extension": ".py",
   "mimetype": "text/x-python",
   "name": "python",
   "nbconvert_exporter": "python",
   "pygments_lexer": "ipython3",
   "version": "3.6.1"
  }
 },
 "nbformat": 4,
 "nbformat_minor": 2
}
